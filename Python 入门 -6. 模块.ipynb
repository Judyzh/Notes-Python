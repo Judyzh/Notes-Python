{
 "cells": [
  {
   "cell_type": "markdown",
   "metadata": {},
   "source": [
    "# # Python 入门 - 6\n",
    "*2019.05.05*"
   ]
  },
  {
   "cell_type": "markdown",
   "metadata": {},
   "source": [
    "## 6. 模块"
   ]
  },
  {
   "cell_type": "markdown",
   "metadata": {},
   "source": [
    "### 6.1 模块\n",
    "\n",
    "* 在Python中，一个.py文件就称之为一个模块（Module）\n",
    "* 使用模块的好处：提高了代码的可维护性；编写代码不必从零开始，可引用其他模块； 还可以避免函数名和变量名冲突\n",
    "* 按目录来组织模块的方法，称为包（Package）\n",
    "* 通过包来组织模块，方法是选择一个顶层包名，比如mycompany，按照如下目录存放：\n",
    "\n",
    "mycompany\n",
    "├─ __init__.py\n",
    "├─ abc.py\n",
    "└─ xyz.py\n",
    "引入了包以后，只要顶层的包名不与别人冲突，那所有模块都不会与别人冲突。现在，abc.py模块的名字就变成了mycompany.abc，类似的，xyz.py的模块名变成了mycompany.xyz。\n",
    "\n",
    "* 每一个包目录下面都会有一个__init__.py的文件，这个文件是必须存在的，否则，Python就把这个目录当成普通目录，而不是一个包。__init__.py可以是空文件，也可以有Python代码，因为__init__.py本身就是一个模块，而它的模块名就是mycompany。\n",
    "* 可以有多级目录，组成多级层次的包结构。比如如下的目录结构：\n",
    "\n",
    "mycompany\n",
    " ├─ web\n",
    " │  ├─ __init__.py\n",
    " │  ├─ utils.py\n",
    " │  └─ www.py\n",
    " ├─ __init__.py\n",
    " ├─ abc.py\n",
    " └─ xyz.py\n",
    "文件www.py的模块名就是mycompany.web.www，两个文件utils.py的模块名分别是mycompany.utils和mycompany.web.utils\n",
    "* 创建自己的模块时，模块名要遵循Python变量命名规范，不要使用中文、特殊字符；模块名不要和系统模块名冲突，最好先查看系统是否已存在该模块，检查方法是在Python交互环境执行import abc，若成功则说明系统存在此模块。\n",
    "\n"
   ]
  },
  {
   "cell_type": "markdown",
   "metadata": {},
   "source": [
    "### 6.2 使用模块"
   ]
  },
  {
   "cell_type": "code",
   "execution_count": 1,
   "metadata": {},
   "outputs": [
    {
     "ename": "SyntaxError",
     "evalue": "invalid syntax (<ipython-input-1-14152b8e2565>, line 19)",
     "output_type": "error",
     "traceback": [
      "\u001b[1;36m  File \u001b[1;32m\"<ipython-input-1-14152b8e2565>\"\u001b[1;36m, line \u001b[1;32m19\u001b[0m\n\u001b[1;33m    if __name__='__main__':\u001b[0m\n\u001b[1;37m               ^\u001b[0m\n\u001b[1;31mSyntaxError\u001b[0m\u001b[1;31m:\u001b[0m invalid syntax\n"
     ]
    }
   ],
   "source": [
    "#!/usr/bin/env python3\n",
    "# -*- coding: utf-8 -*-\n",
    "\n",
    "' a test module '   ##表示模块的文档注释，任何模块代码的第一个字符串都被视为模块的文档注释\n",
    "\n",
    "__author__ = 'Michael Liao'\n",
    "\n",
    "import sys    ## 导入sys模块\n",
    "\n",
    "def test():\n",
    "    args = sys.argv\n",
    "    if len(args) == 1: \n",
    "        print('Hello World!')\n",
    "    elif len(args) == 2: \n",
    "        print('Hello, %s!' % args[1])\n",
    "    else: \n",
    "        print('Too many arguments')\n",
    "    \n",
    "if __name__='__main__':\n",
    "    test()"
   ]
  },
  {
   "cell_type": "markdown",
   "metadata": {},
   "source": [
    "### 作用域\n",
    "* 正常的函数和变量名是公开的（public），可以被直接引用，比如：abc，x123，PI等；\n",
    "* 类似 \\__xxx__这样的变量是特殊变量，可以被直接引用，但是有特殊用途，比如上面的 \\__author\\__，\\__name\\__就是特殊变量\n",
    "* 类似\\_xxx和\\__xxx这样的函数或变量就是非公开的（private），不应该被直接引用，比如 \\_abc，\\__abc等；\n"
   ]
  },
  {
   "cell_type": "code",
   "execution_count": 4,
   "metadata": {},
   "outputs": [
    {
     "name": "stdout",
     "output_type": "stream",
     "text": [
      "Hello, World\n",
      "Hi, Dog\n"
     ]
    }
   ],
   "source": [
    "def _private_1(name):\n",
    "    return 'Hello, %s' %name\n",
    "\n",
    "def _private_2(name):\n",
    "    return 'Hi, %s' %name\n",
    "\n",
    "def greeting(name):\n",
    "    if len(name) >3:\n",
    "        return _private_1(name)\n",
    "    else: \n",
    "        return _private_2(name)\n",
    "    \n",
    "print(greeting ('World'))\n",
    "print(greeting('Dog'))\n"
   ]
  },
  {
   "cell_type": "markdown",
   "metadata": {},
   "source": [
    "### 6.2 安装第三方模块\n",
    "* 通过包管理工具pip安装第三方模块\n",
    "* 在命令提示符窗口下尝试运行pip，如果Windows提示未找到命令，要运行安装程序添加pip （安装时勾选了pip和Add python.exe to Path）\n",
    "* pip install Pillow\n",
    "* 加载模块 import\n",
    "* 加载一个模块时，Python会在指定的路径下搜索对应的.py文件，如果找不到，就会报错\n",
    "* 默认情况下，Python解释器会搜索当前目录、所有已安装的内置模块和第三方模块，搜索路径存放在sys模块的path变量中 （sys.path）\n",
    "* 添加搜索目录，有两种方法: 一是直接修改sys.path，添加要搜索的目录,第二种方法是设置环境变量PYTHONPATH\n"
   ]
  },
  {
   "cell_type": "code",
   "execution_count": 5,
   "metadata": {},
   "outputs": [
    {
     "data": {
      "text/plain": [
       "['C:\\\\Users\\\\pearl\\\\Python projects',\n",
       " 'C:\\\\Users\\\\pearl\\\\Anaconda3\\\\python37.zip',\n",
       " 'C:\\\\Users\\\\pearl\\\\Anaconda3\\\\DLLs',\n",
       " 'C:\\\\Users\\\\pearl\\\\Anaconda3\\\\lib',\n",
       " 'C:\\\\Users\\\\pearl\\\\Anaconda3',\n",
       " '',\n",
       " 'C:\\\\Users\\\\pearl\\\\Anaconda3\\\\lib\\\\site-packages',\n",
       " 'C:\\\\Users\\\\pearl\\\\Anaconda3\\\\lib\\\\site-packages\\\\win32',\n",
       " 'C:\\\\Users\\\\pearl\\\\Anaconda3\\\\lib\\\\site-packages\\\\win32\\\\lib',\n",
       " 'C:\\\\Users\\\\pearl\\\\Anaconda3\\\\lib\\\\site-packages\\\\Pythonwin',\n",
       " 'C:\\\\Users\\\\pearl\\\\Anaconda3\\\\lib\\\\site-packages\\\\IPython\\\\extensions',\n",
       " 'C:\\\\Users\\\\pearl\\\\.ipython']"
      ]
     },
     "execution_count": 5,
     "metadata": {},
     "output_type": "execute_result"
    }
   ],
   "source": [
    "import sys\n",
    "sys.path"
   ]
  },
  {
   "cell_type": "code",
   "execution_count": 6,
   "metadata": {},
   "outputs": [],
   "source": [
    "sys.path.append('/Users/michael/my_py_scripts')"
   ]
  },
  {
   "cell_type": "code",
   "execution_count": 7,
   "metadata": {},
   "outputs": [
    {
     "data": {
      "text/plain": [
       "['C:\\\\Users\\\\pearl\\\\Python projects',\n",
       " 'C:\\\\Users\\\\pearl\\\\Anaconda3\\\\python37.zip',\n",
       " 'C:\\\\Users\\\\pearl\\\\Anaconda3\\\\DLLs',\n",
       " 'C:\\\\Users\\\\pearl\\\\Anaconda3\\\\lib',\n",
       " 'C:\\\\Users\\\\pearl\\\\Anaconda3',\n",
       " '',\n",
       " 'C:\\\\Users\\\\pearl\\\\Anaconda3\\\\lib\\\\site-packages',\n",
       " 'C:\\\\Users\\\\pearl\\\\Anaconda3\\\\lib\\\\site-packages\\\\win32',\n",
       " 'C:\\\\Users\\\\pearl\\\\Anaconda3\\\\lib\\\\site-packages\\\\win32\\\\lib',\n",
       " 'C:\\\\Users\\\\pearl\\\\Anaconda3\\\\lib\\\\site-packages\\\\Pythonwin',\n",
       " 'C:\\\\Users\\\\pearl\\\\Anaconda3\\\\lib\\\\site-packages\\\\IPython\\\\extensions',\n",
       " 'C:\\\\Users\\\\pearl\\\\.ipython',\n",
       " '/Users/michael/my_py_scripts']"
      ]
     },
     "execution_count": 7,
     "metadata": {},
     "output_type": "execute_result"
    }
   ],
   "source": [
    "sys.path"
   ]
  },
  {
   "cell_type": "code",
   "execution_count": null,
   "metadata": {},
   "outputs": [],
   "source": []
  },
  {
   "cell_type": "code",
   "execution_count": null,
   "metadata": {},
   "outputs": [],
   "source": []
  }
 ],
 "metadata": {
  "kernelspec": {
   "display_name": "Python 3",
   "language": "python",
   "name": "python3"
  },
  "language_info": {
   "codemirror_mode": {
    "name": "ipython",
    "version": 3
   },
   "file_extension": ".py",
   "mimetype": "text/x-python",
   "name": "python",
   "nbconvert_exporter": "python",
   "pygments_lexer": "ipython3",
   "version": "3.7.3"
  }
 },
 "nbformat": 4,
 "nbformat_minor": 2
}
